{
 "cells": [
  {
   "cell_type": "markdown",
   "metadata": {},
   "source": [
    "## Steam API Call\n",
    "#### This notebook will perform the following:\n",
    "* Perform API requests for Steam \n",
    "* Store sought info into Mongo database"
   ]
  },
  {
   "cell_type": "code",
   "execution_count": 1,
   "metadata": {},
   "outputs": [],
   "source": [
    "# Dependencies\n",
    "import pandas as pd\n",
    "import numpy as np\n",
    "import requests\n",
    "import time\n",
    "import json\n",
    "import pymongo"
   ]
  },
  {
   "cell_type": "code",
   "execution_count": 2,
   "metadata": {},
   "outputs": [],
   "source": [
    "# API key and base url for Steam Powered API\n",
    "# base_url = \"https://api.steampowered.com/ISteamNews/GetNewsForApp/v2/?\"\n",
    "# api_key = \"F340023436A2892F0607101BA304AB89\""
   ]
  },
  {
   "cell_type": "code",
   "execution_count": 3,
   "metadata": {},
   "outputs": [],
   "source": [
    "# URL and response request for \n",
    "base_url = \"https://steamspy.com/api.php?request=genre&genre=\"\n",
    "genres = ['Action', 'Strategy', 'RPG', 'Indie', 'Adventure', 'Sports', 'Simulation',\n",
    "         'Early+Access', 'Ex+Early+Access', 'MMO', 'Free']\n",
    "# genre_response = requests.get(url).json()\n",
    "\n",
    "gen_response = requests.get(base_url + genres[-1])\n",
    "response_json = gen_response.json()\n",
    "# genre_responses.append(gen_response.json())"
   ]
  },
  {
   "cell_type": "code",
   "execution_count": 4,
   "metadata": {},
   "outputs": [],
   "source": [
    "# Use json.dumps to print the json stored in variable\n",
    "time.sleep(4)\n",
    "# print(json.dumps(response_json, indent=4, sort_keys=True))"
   ]
  },
  {
   "cell_type": "code",
   "execution_count": 5,
   "metadata": {},
   "outputs": [],
   "source": [
    "# Store each genres data in a list\n",
    "free = []\n",
    "\n",
    "for key in response_json.keys():\n",
    "    free.append(response_json[key])"
   ]
  },
  {
   "cell_type": "code",
   "execution_count": 6,
   "metadata": {},
   "outputs": [
    {
     "data": {
      "text/plain": [
       "<pymongo.results.InsertManyResult at 0x19308aeeac8>"
      ]
     },
     "execution_count": 6,
     "metadata": {},
     "output_type": "execute_result"
    }
   ],
   "source": [
    "# Connect to MongoDB default port\n",
    "conn = 'mongodb://localhost:27017'\n",
    "client = pymongo.MongoClient(conn)\n",
    "\n",
    "# Define Steam database in Mongo\n",
    "db = client.steamDB\n",
    "collection = db.steam_genres\n",
    "\n",
    "# Insert data in database\n",
    "collection.insert_many(free)"
   ]
  },
  {
   "cell_type": "code",
   "execution_count": 7,
   "metadata": {},
   "outputs": [
    {
     "data": {
      "text/plain": [
       "2356"
      ]
     },
     "execution_count": 7,
     "metadata": {},
     "output_type": "execute_result"
    }
   ],
   "source": [
    "# Verifying the number of free games on Steam\n",
    "len(free)"
   ]
  },
  {
   "cell_type": "code",
   "execution_count": 8,
   "metadata": {},
   "outputs": [
    {
     "data": {
      "text/plain": [
       "{'appid': 751100,\n",
       " 'name': 'Nonograms Prophecy',\n",
       " 'developer': 'No Gravity Games',\n",
       " 'publisher': 'No Gravity Games',\n",
       " 'score_rank': '',\n",
       " 'positive': 0,\n",
       " 'negative': 0,\n",
       " 'userscore': 0,\n",
       " 'owners': '0 .. 20,000',\n",
       " 'average_forever': 0,\n",
       " 'average_2weeks': 0,\n",
       " 'median_forever': 0,\n",
       " 'median_2weeks': 0,\n",
       " 'price': '0',\n",
       " 'initialprice': '0',\n",
       " 'discount': '0',\n",
       " '_id': ObjectId('5e548b085b8d0eab97fd1c5f')}"
      ]
     },
     "execution_count": 8,
     "metadata": {},
     "output_type": "execute_result"
    }
   ],
   "source": [
    "# Verifying an arbitary index within the collection of free games\n",
    "free[2350]"
   ]
  },
  {
   "cell_type": "code",
   "execution_count": null,
   "metadata": {},
   "outputs": [],
   "source": []
  }
 ],
 "metadata": {
  "kernelspec": {
   "display_name": "Python 3",
   "language": "python",
   "name": "python3"
  },
  "language_info": {
   "codemirror_mode": {
    "name": "ipython",
    "version": 3
   },
   "file_extension": ".py",
   "mimetype": "text/x-python",
   "name": "python",
   "nbconvert_exporter": "python",
   "pygments_lexer": "ipython3",
   "version": "3.7.3"
  }
 },
 "nbformat": 4,
 "nbformat_minor": 4
}
