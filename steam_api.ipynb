{
 "cells": [
  {
   "cell_type": "code",
   "execution_count": 46,
   "metadata": {},
   "outputs": [],
   "source": [
    "from bs4 import BeautifulSoup\n",
    "import requests\n",
    "import pymongo\n",
    "\n",
    "URL = 'https://steamspy.com/api.php?request=top100forever'\n",
    "page = requests.get(URL)\n",
    "\n",
    "soup = BeautifulSoup(page.content, 'html.parser')"
   ]
  },
  {
   "cell_type": "code",
   "execution_count": 47,
   "metadata": {},
   "outputs": [],
   "source": [
    "# Initialize PyMongo to work with MongoDBs\n",
    "conn = 'mongodb://localhost:27017'\n",
    "client = pymongo.MongoClient(conn)"
   ]
  },
  {
   "cell_type": "code",
   "execution_count": 48,
   "metadata": {},
   "outputs": [],
   "source": [
    "# Define database and collection\n",
    "db = client.steam\n",
    "collection = db.steam_games"
   ]
  },
  {
   "cell_type": "code",
   "execution_count": 41,
   "metadata": {},
   "outputs": [],
   "source": [
    "results = soup.find_all()\n",
    "\n",
    "# loop over results to get article data\n",
    "for result in results:\n",
    "    # scrape the app id      \n",
    "        appid = result.find('appid').text\n",
    "    \n",
    "        # scrape the game name\n",
    "        title = result.find('name').text\n",
    "    \n",
    "        # scrape the price\n",
    "        price = result.find('price')\n",
    "        \n",
    "        # print article data\n",
    "        print('-----------------')\n",
    "        print(appid)\n",
    "        print(name)\n",
    "        print(price)\n",
    "\n",
    "        # Dictionary to be inserted into MongoDB\n",
    "        post = {\n",
    "            'appid': appid,\n",
    "            'title': title,\n",
    "            'price': price,\n",
    "             }\n",
    "\n",
    "        # Insert dictionary into MongoDB as a document\n",
    "        collection.insert_one(post)\n",
    "\n"
   ]
  },
  {
   "cell_type": "code",
   "execution_count": 42,
   "metadata": {},
   "outputs": [],
   "source": [
    "games = db.steam_games.find()\n",
    "for game in games:\n",
    "    print(games)"
   ]
  },
  {
   "cell_type": "code",
   "execution_count": null,
   "metadata": {},
   "outputs": [],
   "source": []
  }
 ],
 "metadata": {
  "kernelspec": {
   "display_name": "Python 3",
   "language": "python",
   "name": "python3"
  },
  "language_info": {
   "codemirror_mode": {
    "name": "ipython",
    "version": 3
   },
   "file_extension": ".py",
   "mimetype": "text/x-python",
   "name": "python",
   "nbconvert_exporter": "python",
   "pygments_lexer": "ipython3",
   "version": "3.7.4"
  }
 },
 "nbformat": 4,
 "nbformat_minor": 2
}
