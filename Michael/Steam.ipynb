{
 "cells": [
  {
   "cell_type": "code",
   "execution_count": 1,
   "metadata": {},
   "outputs": [],
   "source": [
    "import requests\n",
    "import pandas as pd\n",
    "import json\n",
    "from config import api_key\n",
    "from bs4 import BeautifulSoup\n",
    "from splinter import Browser\n",
    "import time"
   ]
  },
  {
   "cell_type": "code",
   "execution_count": 2,
   "metadata": {},
   "outputs": [],
   "source": [
    "executable_path = {'executable_path':'/usr/local/bin/chromedriver'}"
   ]
  },
  {
   "cell_type": "code",
   "execution_count": 3,
   "metadata": {},
   "outputs": [],
   "source": [
    "browser = Browser('chrome', **executable_path, headless=False)"
   ]
  },
  {
   "cell_type": "code",
   "execution_count": 152,
   "metadata": {},
   "outputs": [],
   "source": [
    "# Most popular free to play games\n",
    "baseURL = 'https://store.steampowered.com/search/?&genre=Free%20to%20Play'\n",
    "browser.visit(baseURL)"
   ]
  },
  {
   "cell_type": "code",
   "execution_count": 10,
   "metadata": {},
   "outputs": [
    {
     "name": "stdout",
     "output_type": "stream",
     "text": [
      "{'game': 'Counter-Strike: Global Offensive', 'released': 'Aug 21, 2012', 'reviews': 'Very Positive', 'developer': 'Valve', 'criticScore': '83', 'genre': 'FPS'}\n",
      "{'game': 'Destiny 2', 'released': 'Oct 1, 2019', 'reviews': 'Very Positive', 'developer': 'Bungie', 'criticScore': '83', 'genre': 'Looter Shooter'}\n",
      "{'game': 'Warframe', 'released': 'Mar 25, 2013', 'reviews': 'Very Positive', 'developer': 'Digital Extremes', 'criticScore': '69', 'genre': 'Looter Shooter'}\n",
      "{'game': 'Path of Exile', 'released': 'Oct 23, 2013', 'reviews': 'Very Positive', 'developer': 'Grinding Gear Games', 'criticScore': '86', 'genre': 'Action RPG'}\n",
      "{'game': 'War Thunder', 'released': 'Aug 15, 2013', 'reviews': 'Very Positive', 'developer': 'Gaijin Entertainment', 'criticScore': '81', 'genre': 'World War II'}\n",
      "{'game': 'SMITE®', 'released': 'Sep 8, 2015', 'reviews': 'Very Positive', 'developer': 'Titan Forge Games', 'criticScore': '83', 'genre': 'MOBA'}\n",
      "{'game': 'Team Fortress 2', 'released': 'Oct 10, 2007', 'reviews': 'Very Positive', 'developer': 'Valve', 'criticScore': '92', 'genre': 'Hero Shooter'}\n",
      "{'game': 'Dota 2', 'released': 'Jul 9, 2013', 'reviews': 'Mostly Positive', 'developer': 'Valve', 'criticScore': '90', 'genre': 'MOBA'}\n",
      "{'game': 'World of Warships', 'released': 'Nov 15, 2017', 'reviews': 'Very Positive', 'developer': 'Wargaming Group Limited', 'criticScore': '81', 'genre': 'Naval'}\n",
      "{'game': 'Star Trek Online', 'released': 'Feb 2, 2010', 'reviews': 'Very Positive', 'developer': 'Cryptic Studios', 'criticScore': '66', 'genre': 'Sci-fi'}\n",
      "{'game': 'DCS World Steam Edition', 'released': 'Mar 18, 2018', 'reviews': 'Very Positive', 'developer': 'Eagle Dynamics SA', 'criticScore': 'none', 'genre': 'Simulation'}\n",
      "{'game': 'Crusader Kings II', 'released': 'Feb 14, 2012', 'reviews': 'Very Positive', 'developer': 'Paradox Development Studio', 'criticScore': '82', 'genre': 'Grand Strategy'}\n",
      "{'game': 'Brawlhalla', 'released': 'Oct 17, 2017', 'reviews': 'Very Positive', 'developer': 'Blue Mammoth Games', 'criticScore': 'none', 'genre': 'Fighting'}\n",
      "{'game': 'Paladins®', 'released': 'May 8, 2018', 'reviews': 'Very Positive', 'developer': 'Evil Mojo Games', 'criticScore': '83', 'genre': 'Hero Shooter'}\n",
      "{'game': 'Yu-Gi-Oh! Duel Links', 'released': 'Nov 16, 2017', 'reviews': 'Very Positive', 'developer': 'Konami Digital Entertainment', 'criticScore': 'none', 'genre': 'Card Game'}\n",
      "{'game': 'EVE Online', 'released': 'May 6, 2003', 'reviews': 'Mostly Positive', 'developer': 'CCP', 'criticScore': '88', 'genre': 'Space'}\n",
      "{'game': 'PlanetSide 2', 'released': 'Nov 20, 2012', 'reviews': 'Very Positive', 'developer': 'Rogue Planet Games', 'criticScore': '84', 'genre': 'FPS'}\n",
      "{'game': 'Crossout', 'released': 'Jul 26, 2017', 'reviews': 'Very Positive', 'developer': 'Targem Games', 'criticScore': 'none', 'genre': 'Vehicular Combat'}\n",
      "{'game': 'World of Tanks Blitz', 'released': 'Nov 9, 2016', 'reviews': 'Very Positive', 'developer': 'Wargaming Group Limited', 'criticScore': 'none', 'genre': 'Tanks'}\n",
      "{'game': 'Realm of the Mad God', 'released': 'Feb 20, 2012', 'reviews': 'Very Positive', 'developer': 'Wild Shadow Studios', 'criticScore': '82', 'genre': 'Massively Multiplayer'}\n",
      "{'game': 'Albion Online', 'released': 'Jul 17, 2017', 'reviews': 'Very Positive', 'developer': 'Sandbox Interactive GmbH', 'criticScore': '72', 'genre': 'Massively Multiplayer'}\n",
      "{'game': 'Neverwinter', 'released': 'Dec 5, 2013', 'reviews': 'Mostly Positive', 'developer': 'Cryptic Studios', 'criticScore': '74', 'genre': 'MMORPG'}\n",
      "{'game': 'Shadowverse CCG', 'released': 'Oct 27, 2016', 'reviews': 'Mixed', 'developer': 'Cygames', 'criticScore': 'none', 'genre': 'Card Battler'}\n"
     ]
    },
    {
     "ename": "WebDriverException",
     "evalue": "Message: disconnected: Unable to receive message from renderer\n  (Session info: chrome=80.0.3987.116)\n",
     "output_type": "error",
     "traceback": [
      "\u001b[0;31m---------------------------------------------------------------------------\u001b[0m",
      "\u001b[0;31mWebDriverException\u001b[0m                        Traceback (most recent call last)",
      "\u001b[0;32m<ipython-input-10-68aaf08662f7>\u001b[0m in \u001b[0;36m<module>\u001b[0;34m\u001b[0m\n\u001b[1;32m     15\u001b[0m \u001b[0;34m\u001b[0m\u001b[0m\n\u001b[1;32m     16\u001b[0m     \u001b[0;31m# Visit game page\u001b[0m\u001b[0;34m\u001b[0m\u001b[0;34m\u001b[0m\u001b[0;34m\u001b[0m\u001b[0m\n\u001b[0;32m---> 17\u001b[0;31m     \u001b[0mbrowser\u001b[0m\u001b[0;34m.\u001b[0m\u001b[0mvisit\u001b[0m\u001b[0;34m(\u001b[0m\u001b[0murl\u001b[0m\u001b[0;34m)\u001b[0m\u001b[0;34m\u001b[0m\u001b[0;34m\u001b[0m\u001b[0m\n\u001b[0m\u001b[1;32m     18\u001b[0m     \u001b[0mtime\u001b[0m\u001b[0;34m.\u001b[0m\u001b[0msleep\u001b[0m\u001b[0;34m(\u001b[0m\u001b[0;36m1\u001b[0m\u001b[0;34m)\u001b[0m\u001b[0;34m\u001b[0m\u001b[0;34m\u001b[0m\u001b[0m\n\u001b[1;32m     19\u001b[0m \u001b[0;34m\u001b[0m\u001b[0m\n",
      "\u001b[0;32m~/opt/anaconda3/lib/python3.7/site-packages/splinter/driver/webdriver/__init__.py\u001b[0m in \u001b[0;36mvisit\u001b[0;34m(self, url)\u001b[0m\n\u001b[1;32m    320\u001b[0m \u001b[0;34m\u001b[0m\u001b[0m\n\u001b[1;32m    321\u001b[0m     \u001b[0;32mdef\u001b[0m \u001b[0mvisit\u001b[0m\u001b[0;34m(\u001b[0m\u001b[0mself\u001b[0m\u001b[0;34m,\u001b[0m \u001b[0murl\u001b[0m\u001b[0;34m)\u001b[0m\u001b[0;34m:\u001b[0m\u001b[0;34m\u001b[0m\u001b[0;34m\u001b[0m\u001b[0m\n\u001b[0;32m--> 322\u001b[0;31m         \u001b[0mself\u001b[0m\u001b[0;34m.\u001b[0m\u001b[0mdriver\u001b[0m\u001b[0;34m.\u001b[0m\u001b[0mget\u001b[0m\u001b[0;34m(\u001b[0m\u001b[0murl\u001b[0m\u001b[0;34m)\u001b[0m\u001b[0;34m\u001b[0m\u001b[0;34m\u001b[0m\u001b[0m\n\u001b[0m\u001b[1;32m    323\u001b[0m \u001b[0;34m\u001b[0m\u001b[0m\n\u001b[1;32m    324\u001b[0m     \u001b[0;32mdef\u001b[0m \u001b[0mback\u001b[0m\u001b[0;34m(\u001b[0m\u001b[0mself\u001b[0m\u001b[0;34m)\u001b[0m\u001b[0;34m:\u001b[0m\u001b[0;34m\u001b[0m\u001b[0;34m\u001b[0m\u001b[0m\n",
      "\u001b[0;32m~/opt/anaconda3/lib/python3.7/site-packages/selenium/webdriver/remote/webdriver.py\u001b[0m in \u001b[0;36mget\u001b[0;34m(self, url)\u001b[0m\n\u001b[1;32m    331\u001b[0m         \u001b[0mLoads\u001b[0m \u001b[0ma\u001b[0m \u001b[0mweb\u001b[0m \u001b[0mpage\u001b[0m \u001b[0;32min\u001b[0m \u001b[0mthe\u001b[0m \u001b[0mcurrent\u001b[0m \u001b[0mbrowser\u001b[0m \u001b[0msession\u001b[0m\u001b[0;34m.\u001b[0m\u001b[0;34m\u001b[0m\u001b[0;34m\u001b[0m\u001b[0m\n\u001b[1;32m    332\u001b[0m         \"\"\"\n\u001b[0;32m--> 333\u001b[0;31m         \u001b[0mself\u001b[0m\u001b[0;34m.\u001b[0m\u001b[0mexecute\u001b[0m\u001b[0;34m(\u001b[0m\u001b[0mCommand\u001b[0m\u001b[0;34m.\u001b[0m\u001b[0mGET\u001b[0m\u001b[0;34m,\u001b[0m \u001b[0;34m{\u001b[0m\u001b[0;34m'url'\u001b[0m\u001b[0;34m:\u001b[0m \u001b[0murl\u001b[0m\u001b[0;34m}\u001b[0m\u001b[0;34m)\u001b[0m\u001b[0;34m\u001b[0m\u001b[0;34m\u001b[0m\u001b[0m\n\u001b[0m\u001b[1;32m    334\u001b[0m \u001b[0;34m\u001b[0m\u001b[0m\n\u001b[1;32m    335\u001b[0m     \u001b[0;34m@\u001b[0m\u001b[0mproperty\u001b[0m\u001b[0;34m\u001b[0m\u001b[0;34m\u001b[0m\u001b[0m\n",
      "\u001b[0;32m~/opt/anaconda3/lib/python3.7/site-packages/selenium/webdriver/remote/webdriver.py\u001b[0m in \u001b[0;36mexecute\u001b[0;34m(self, driver_command, params)\u001b[0m\n\u001b[1;32m    319\u001b[0m         \u001b[0mresponse\u001b[0m \u001b[0;34m=\u001b[0m \u001b[0mself\u001b[0m\u001b[0;34m.\u001b[0m\u001b[0mcommand_executor\u001b[0m\u001b[0;34m.\u001b[0m\u001b[0mexecute\u001b[0m\u001b[0;34m(\u001b[0m\u001b[0mdriver_command\u001b[0m\u001b[0;34m,\u001b[0m \u001b[0mparams\u001b[0m\u001b[0;34m)\u001b[0m\u001b[0;34m\u001b[0m\u001b[0;34m\u001b[0m\u001b[0m\n\u001b[1;32m    320\u001b[0m         \u001b[0;32mif\u001b[0m \u001b[0mresponse\u001b[0m\u001b[0;34m:\u001b[0m\u001b[0;34m\u001b[0m\u001b[0;34m\u001b[0m\u001b[0m\n\u001b[0;32m--> 321\u001b[0;31m             \u001b[0mself\u001b[0m\u001b[0;34m.\u001b[0m\u001b[0merror_handler\u001b[0m\u001b[0;34m.\u001b[0m\u001b[0mcheck_response\u001b[0m\u001b[0;34m(\u001b[0m\u001b[0mresponse\u001b[0m\u001b[0;34m)\u001b[0m\u001b[0;34m\u001b[0m\u001b[0;34m\u001b[0m\u001b[0m\n\u001b[0m\u001b[1;32m    322\u001b[0m             response['value'] = self._unwrap_value(\n\u001b[1;32m    323\u001b[0m                 response.get('value', None))\n",
      "\u001b[0;32m~/opt/anaconda3/lib/python3.7/site-packages/selenium/webdriver/remote/errorhandler.py\u001b[0m in \u001b[0;36mcheck_response\u001b[0;34m(self, response)\u001b[0m\n\u001b[1;32m    240\u001b[0m                 \u001b[0malert_text\u001b[0m \u001b[0;34m=\u001b[0m \u001b[0mvalue\u001b[0m\u001b[0;34m[\u001b[0m\u001b[0;34m'alert'\u001b[0m\u001b[0;34m]\u001b[0m\u001b[0;34m.\u001b[0m\u001b[0mget\u001b[0m\u001b[0;34m(\u001b[0m\u001b[0;34m'text'\u001b[0m\u001b[0;34m)\u001b[0m\u001b[0;34m\u001b[0m\u001b[0;34m\u001b[0m\u001b[0m\n\u001b[1;32m    241\u001b[0m             \u001b[0;32mraise\u001b[0m \u001b[0mexception_class\u001b[0m\u001b[0;34m(\u001b[0m\u001b[0mmessage\u001b[0m\u001b[0;34m,\u001b[0m \u001b[0mscreen\u001b[0m\u001b[0;34m,\u001b[0m \u001b[0mstacktrace\u001b[0m\u001b[0;34m,\u001b[0m \u001b[0malert_text\u001b[0m\u001b[0;34m)\u001b[0m\u001b[0;34m\u001b[0m\u001b[0;34m\u001b[0m\u001b[0m\n\u001b[0;32m--> 242\u001b[0;31m         \u001b[0;32mraise\u001b[0m \u001b[0mexception_class\u001b[0m\u001b[0;34m(\u001b[0m\u001b[0mmessage\u001b[0m\u001b[0;34m,\u001b[0m \u001b[0mscreen\u001b[0m\u001b[0;34m,\u001b[0m \u001b[0mstacktrace\u001b[0m\u001b[0;34m)\u001b[0m\u001b[0;34m\u001b[0m\u001b[0;34m\u001b[0m\u001b[0m\n\u001b[0m\u001b[1;32m    243\u001b[0m \u001b[0;34m\u001b[0m\u001b[0m\n\u001b[1;32m    244\u001b[0m     \u001b[0;32mdef\u001b[0m \u001b[0m_value_or_default\u001b[0m\u001b[0;34m(\u001b[0m\u001b[0mself\u001b[0m\u001b[0;34m,\u001b[0m \u001b[0mobj\u001b[0m\u001b[0;34m,\u001b[0m \u001b[0mkey\u001b[0m\u001b[0;34m,\u001b[0m \u001b[0mdefault\u001b[0m\u001b[0;34m)\u001b[0m\u001b[0;34m:\u001b[0m\u001b[0;34m\u001b[0m\u001b[0;34m\u001b[0m\u001b[0m\n",
      "\u001b[0;31mWebDriverException\u001b[0m: Message: disconnected: Unable to receive message from renderer\n  (Session info: chrome=80.0.3987.116)\n"
     ]
    }
   ],
   "source": [
    "# Most popular free to play games\n",
    "baseURL = 'https://store.steampowered.com/search/?&genre=Free%20to%20Play'\n",
    "browser.visit(baseURL)\n",
    "\n",
    "\n",
    "section = browser.find_by_css('.search_result_row')\n",
    "\n",
    "urls = []\n",
    "f2p = []\n",
    "for game in section:\n",
    "    url = game['href']\n",
    "    urls.append(url)\n",
    "\n",
    "for url in urls:\n",
    "\n",
    "    # Visit game page\n",
    "    browser.visit(url)\n",
    "    time.sleep(1)\n",
    "\n",
    "    # Scrape game data\n",
    "    name = browser.find_by_css('.apphub_AppName').value\n",
    "    release = browser.find_by_css('.date').value\n",
    "    reviews = browser.find_by_css('.game_review_summary').value\n",
    "\n",
    "\n",
    "\n",
    "    # Get Dev / Genre / Clean\n",
    "    dev = browser.find_by_css('.dev_row').value\n",
    "    dev = dev.split('DEVELOPER:\\n')\n",
    "    dev = dev[1].split(',')[0]\n",
    "\n",
    "    tags = browser.find_by_css('.app_tag')\n",
    "    ignore = ['Free to Play','Multiplayer','Singleplayer']\n",
    "    for t in tags:\n",
    "        if t.value not in ignore:\n",
    "            genre = t.value\n",
    "            break\n",
    "\n",
    "    # Get critic score if any\n",
    "    try:\n",
    "        criticScore = browser.find_by_css('.score').value\n",
    "        criticScore\n",
    "    except:\n",
    "        criticScore = 'none'\n",
    "    criticScore\n",
    "\n",
    "    gameInfo = {\n",
    "    'game':name,\n",
    "    'released':release,\n",
    "    'reviews':reviews,\n",
    "    'developer':dev,\n",
    "    'criticScore':criticScore,\n",
    "    'genre':genre}\n",
    "\n",
    "\n",
    "    print(gameInfo)\n",
    "    f2p.append(gameInfo)\n",
    "\n",
    "    time.sleep(1)\n",
    "\n",
    "#     browser.visit(baseURL)\n",
    "#     time.sleep(1)\n",
    "#     nextBtn = browser.find_by_text('>')\n",
    "#     nextBtn.click()\n",
    "#     baseURL = browser.url\n",
    "    \n",
    "    # print(f2p)"
   ]
  },
  {
   "cell_type": "code",
   "execution_count": null,
   "metadata": {},
   "outputs": [],
   "source": []
  },
  {
   "cell_type": "code",
   "execution_count": null,
   "metadata": {},
   "outputs": [],
   "source": []
  }
 ],
 "metadata": {
  "kernelspec": {
   "display_name": "Python 3",
   "language": "python",
   "name": "python3"
  },
  "language_info": {
   "codemirror_mode": {
    "name": "ipython",
    "version": 3
   },
   "file_extension": ".py",
   "mimetype": "text/x-python",
   "name": "python",
   "nbconvert_exporter": "python",
   "pygments_lexer": "ipython3",
   "version": "3.7.4"
  }
 },
 "nbformat": 4,
 "nbformat_minor": 2
}
