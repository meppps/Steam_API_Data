{
 "cells": [
  {
   "cell_type": "code",
   "execution_count": 1,
   "metadata": {},
   "outputs": [],
   "source": [
    "import requests\n",
    "import pandas as pd\n",
    "import json\n",
    "from config import api_key\n",
    "from bs4 import BeautifulSoup\n",
    "from splinter import Browser\n",
    "import time"
   ]
  },
  {
   "cell_type": "code",
   "execution_count": 2,
   "metadata": {},
   "outputs": [],
   "source": [
    "executable_path = {'executable_path':'/usr/local/bin/chromedriver'}"
   ]
  },
  {
   "cell_type": "code",
   "execution_count": 3,
   "metadata": {},
   "outputs": [],
   "source": [
    "browser = Browser('chrome', **executable_path, headless=False)"
   ]
  },
  {
   "cell_type": "code",
   "execution_count": 11,
   "metadata": {},
   "outputs": [],
   "source": [
    "# Most popular free to play games\n",
    "baseURL = 'https://store.steampowered.com/search/?&genre=Free%20to%20Play'\n",
    "browser.visit(baseURL)"
   ]
  },
  {
   "cell_type": "code",
   "execution_count": 11,
   "metadata": {},
   "outputs": [],
   "source": [
    "# Scrape Functions\n",
    "\n",
    "def scrape():\n",
    "    section = browser.find_by_css('.search_result_row')\n",
    "\n",
    "    urls = []\n",
    "    f2p = []\n",
    "    for game in section:\n",
    "        url = game['href']\n",
    "        urls.append(url)\n",
    "\n",
    "    for url in urls:\n",
    "\n",
    "        # Visit game page\n",
    "        browser.visit(url)\n",
    "        time.sleep(1)\n",
    "        \n",
    "        if browser.find_by_css('.btnv6_blue_hoverfade').text == 'View Page':\n",
    "            continue\n",
    "        else:\n",
    "\n",
    "            # Scrape game data\n",
    "            try:\n",
    "                name = browser.find_by_css('.apphub_AppName').value    \n",
    "                release = browser.find_by_css('.date').value\n",
    "                reviews = browser.find_by_css('.game_review_summary').value\n",
    "            except:\n",
    "                name = 'not found'\n",
    "                release = 'not found'\n",
    "                reviews = 'none'\n",
    "            \n",
    "            try:\n",
    "                price = browser.find_by_css('.price').value\n",
    "            except:\n",
    "                price = browser.find_by_css('.discount_original_price').value\n",
    "\n",
    "\n",
    "\n",
    "            # Get Dev / Genre / Clean\n",
    "            try:\n",
    "                dev = browser.find_by_css('.dev_row').value\n",
    "                dev = dev.split('DEVELOPER:\\n')\n",
    "                dev = dev[1].split(',')[0]\n",
    "            except:\n",
    "                dev = 'Not Found'\n",
    "\n",
    "            tags = browser.find_by_css('.app_tag')\n",
    "            ignore = ['Free to Play','Multiplayer','Singleplayer']\n",
    "            for t in tags:\n",
    "                if t.value not in ignore:\n",
    "                    genre = t.value\n",
    "                    break\n",
    "\n",
    "            # Get critic score if any\n",
    "            try:\n",
    "                criticScore = browser.find_by_css('.score').value\n",
    "                criticScore\n",
    "            except:\n",
    "                criticScore = 'none'\n",
    "            criticScore\n",
    "\n",
    "            gameInfo = {\n",
    "            'game':name,\n",
    "            'price':price,\n",
    "            'released':release,\n",
    "            'reviews':reviews,\n",
    "            'developer':dev,\n",
    "            'criticScore':criticScore,\n",
    "            'genre':genre}\n",
    "\n",
    "\n",
    "            print(gameInfo)\n",
    "            f2p.append(gameInfo)\n",
    "\n",
    "            time.sleep(1)\n",
    "\n",
    "            browser.visit(baseURL)\n",
    "    #     time.sleep(1)\n",
    "    #     nextBtn = browser.find_by_text('>')\n",
    "    #     nextBtn.click()\n",
    "    #     baseURL = browser.url\n",
    "\n",
    "        # print(f2p)"
   ]
  },
  {
   "cell_type": "code",
   "execution_count": 5,
   "metadata": {},
   "outputs": [
    {
     "name": "stdout",
     "output_type": "stream",
     "text": [
      "{'game': 'Counter-Strike: Global Offensive', 'price': 'Free to Play', 'released': 'Aug 21, 2012', 'reviews': 'Very Positive', 'developer': 'Valve', 'criticScore': '83', 'genre': 'FPS'}\n",
      "{'game': 'Destiny 2', 'price': 'Free To Play', 'released': 'Oct 1, 2019', 'reviews': 'Very Positive', 'developer': 'Bungie', 'criticScore': '83', 'genre': 'Looter Shooter'}\n",
      "{'game': 'Warframe', 'price': 'Free to Play', 'released': 'Mar 25, 2013', 'reviews': 'Very Positive', 'developer': 'Digital Extremes', 'criticScore': '69', 'genre': 'Looter Shooter'}\n",
      "{'game': 'Path of Exile', 'price': 'Free to Play', 'released': 'Oct 23, 2013', 'reviews': 'Very Positive', 'developer': 'Grinding Gear Games', 'criticScore': '86', 'genre': 'Action RPG'}\n",
      "{'game': 'War Thunder', 'price': 'Free to Play', 'released': 'Aug 15, 2013', 'reviews': 'Very Positive', 'developer': 'Gaijin Entertainment', 'criticScore': '81', 'genre': 'World War II'}\n",
      "{'game': 'SMITE®', 'price': 'Free to Play', 'released': 'Sep 8, 2015', 'reviews': 'Very Positive', 'developer': 'Titan Forge Games', 'criticScore': '83', 'genre': 'MOBA'}\n",
      "{'game': 'Team Fortress 2', 'price': 'Free to Play', 'released': 'Oct 10, 2007', 'reviews': 'Very Positive', 'developer': 'Valve', 'criticScore': '92', 'genre': 'Hero Shooter'}\n",
      "{'game': 'Dota 2', 'price': 'Free to Play', 'released': 'Jul 9, 2013', 'reviews': 'Mostly Positive', 'developer': 'Valve', 'criticScore': '90', 'genre': 'MOBA'}\n",
      "{'game': 'World of Warships', 'price': 'Free to Play', 'released': 'Nov 15, 2017', 'reviews': 'Very Positive', 'developer': 'Wargaming Group Limited', 'criticScore': '81', 'genre': 'Naval'}\n",
      "{'game': 'Star Trek Online', 'price': 'Free to Play', 'released': 'Feb 2, 2010', 'reviews': 'Very Positive', 'developer': 'Cryptic Studios', 'criticScore': '66', 'genre': 'Sci-fi'}\n",
      "{'game': 'DCS World Steam Edition', 'price': 'Free', 'released': 'Mar 18, 2018', 'reviews': 'Very Positive', 'developer': 'Eagle Dynamics SA', 'criticScore': 'none', 'genre': 'Simulation'}\n",
      "{'game': 'Brawlhalla', 'price': 'Free to Play', 'released': 'Oct 17, 2017', 'reviews': 'Very Positive', 'developer': 'Blue Mammoth Games', 'criticScore': 'none', 'genre': 'Fighting'}\n",
      "{'game': 'Paladins®', 'price': 'Free to Play', 'released': 'May 8, 2018', 'reviews': 'Very Positive', 'developer': 'Evil Mojo Games', 'criticScore': '83', 'genre': 'Hero Shooter'}\n",
      "{'game': 'Crusader Kings II', 'price': 'Free To Play', 'released': 'Feb 14, 2012', 'reviews': 'Very Positive', 'developer': 'Paradox Development Studio', 'criticScore': '82', 'genre': 'Grand Strategy'}\n",
      "{'game': 'EVE Online', 'price': 'Free', 'released': 'May 6, 2003', 'reviews': 'Mostly Positive', 'developer': 'CCP', 'criticScore': '88', 'genre': 'Space'}\n",
      "{'game': 'Yu-Gi-Oh! Duel Links', 'price': 'Free to Play', 'released': 'Nov 16, 2017', 'reviews': 'Very Positive', 'developer': 'Konami Digital Entertainment', 'criticScore': 'none', 'genre': 'Card Game'}\n",
      "{'game': 'PlanetSide 2', 'price': 'Free to Play', 'released': 'Nov 20, 2012', 'reviews': 'Very Positive', 'developer': 'Rogue Planet Games', 'criticScore': '84', 'genre': 'FPS'}\n",
      "{'game': 'Crossout', 'price': 'Free To Play', 'released': 'Jul 26, 2017', 'reviews': 'Very Positive', 'developer': 'Targem Games', 'criticScore': 'none', 'genre': 'Vehicular Combat'}\n",
      "{'game': 'World of Tanks Blitz', 'price': 'Free to Play', 'released': 'Nov 9, 2016', 'reviews': 'Very Positive', 'developer': 'Wargaming Group Limited', 'criticScore': 'none', 'genre': 'Tanks'}\n",
      "{'game': 'Realm of the Mad God', 'price': 'Free to Play', 'released': 'Feb 20, 2012', 'reviews': 'Very Positive', 'developer': 'Wild Shadow Studios', 'criticScore': '82', 'genre': 'Massively Multiplayer'}\n",
      "{'game': 'Albion Online', 'price': 'Free to Play', 'released': 'Jul 17, 2017', 'reviews': 'Very Positive', 'developer': 'Sandbox Interactive GmbH', 'criticScore': '72', 'genre': 'Massively Multiplayer'}\n",
      "{'game': 'Neverwinter', 'price': 'Free to Play', 'released': 'Dec 5, 2013', 'reviews': 'Mostly Positive', 'developer': 'Cryptic Studios', 'criticScore': '74', 'genre': 'MMORPG'}\n",
      "{'game': 'Shadowverse CCG', 'price': 'Free To Play', 'released': 'Oct 27, 2016', 'reviews': 'Mixed', 'developer': 'Cygames', 'criticScore': 'none', 'genre': 'Card Battler'}\n",
      "{'game': \"Conqueror's Blade\", 'price': 'Free To Play', 'released': 'May 30, 2019', 'reviews': 'Very Positive', 'developer': 'Booming Games', 'criticScore': 'none', 'genre': 'Action'}\n",
      "{'game': 'Crush Crush', 'price': 'Free to Play', 'released': 'May 13, 2016', 'reviews': 'Very Positive', 'developer': 'Sad Panda Studios', 'criticScore': 'none', 'genre': 'Sexual Content'}\n"
     ]
    }
   ],
   "source": [
    "# Top Free to play games\n",
    "baseURL = 'https://store.steampowered.com/search/?&genre=Free%20to%20Play'\n",
    "browser.visit(baseURL)\n",
    "scrape()"
   ]
  },
  {
   "cell_type": "code",
   "execution_count": 12,
   "metadata": {},
   "outputs": [
    {
     "name": "stdout",
     "output_type": "stream",
     "text": [
      "{'game': 'Wolcen: Lords of Mayhem', 'price': '$39.99', 'released': 'Feb 13, 2020', 'reviews': 'Mixed', 'developer': 'WOLCEN Studio', 'criticScore': '69', 'genre': 'RPG'}\n",
      "{'game': 'Hunt: Showdown', 'price': '', 'released': 'Aug 27, 2019', 'reviews': 'Very Positive', 'developer': 'Crytek', 'criticScore': '82', 'genre': 'Horror'}\n",
      "{'game': \"No Man's Sky\", 'price': '$59.99', 'released': 'Aug 12, 2016', 'reviews': 'Very Positive', 'developer': 'Hello Games', 'criticScore': '61', 'genre': 'Open World Survival Craft'}\n",
      "{'game': 'STAR WARS Jedi: Fallen Order™', 'price': '$59.99', 'released': 'Nov 14, 2019', 'reviews': 'Very Positive', 'developer': 'Respawn Entertainment', 'criticScore': '81', 'genre': 'Action'}\n",
      "{'game': 'Grand Theft Auto V', 'price': '$29.99', 'released': 'Apr 14, 2015', 'reviews': 'Very Positive', 'developer': 'Rockstar North', 'criticScore': '96', 'genre': 'Open World'}\n",
      "{'game': 'Red Dead Redemption 2', 'price': '$59.99', 'released': 'Dec 5, 2019', 'reviews': 'Mostly Positive', 'developer': 'Rockstar Games', 'criticScore': '93', 'genre': 'Adventure'}\n",
      "{'game': 'Monster Hunter World: Iceborne', 'price': '$39.99', 'released': 'Jan 9, 2020', 'reviews': 'Mixed', 'developer': 'CAPCOM Co.', 'criticScore': 'none', 'genre': 'Action'}\n",
      "{'game': 'Dungeon Defenders: Awakened', 'price': '$39.99', 'released': 'Feb 21, 2020', 'reviews': 'Mixed', 'developer': 'Chromatic Games', 'criticScore': 'none', 'genre': 'Strategy'}\n",
      "{'game': \"PLAYERUNKNOWN'S BATTLEGROUNDS\", 'price': '$29.99', 'released': 'Dec 21, 2017', 'reviews': 'Mixed', 'developer': 'PUBG Corporation', 'criticScore': '86', 'genre': 'Survival'}\n",
      "{'game': 'Rust', 'price': '$39.99', 'released': 'Feb 8, 2018', 'reviews': 'Very Positive', 'developer': 'Facepunch Studios', 'criticScore': '69', 'genre': 'Survival'}\n",
      "{'game': 'Besiege', 'price': '$9.99', 'released': 'Feb 18, 2020', 'reviews': 'Overwhelmingly Positive', 'developer': 'Spiderling Studios', 'criticScore': 'none', 'genre': 'Building'}\n",
      "{'game': 'Tank Mechanic Simulator', 'price': '$19.99', 'released': 'Feb 20, 2020', 'reviews': 'Mostly Positive', 'developer': 'DeGenerals', 'criticScore': 'none', 'genre': 'Simulation'}\n",
      "{'game': 'Temtem', 'price': '$34.99', 'released': 'Jan 21, 2020', 'reviews': 'Very Positive', 'developer': 'Crema', 'criticScore': 'none', 'genre': 'RPG'}\n",
      "{'game': 'not found', 'price': '$19.99', 'released': 'not found', 'reviews': 'none', 'developer': 'Paradox Development Studio', 'criticScore': 'none', 'genre': 'Strategy'}\n",
      "{'game': 'Raft', 'price': '$19.99', 'released': 'May 23, 2018', 'reviews': 'Very Positive', 'developer': 'Redbeet Interactive', 'criticScore': 'none', 'genre': 'Open World Survival Craft'}\n",
      "{'game': 'Stardew Valley', 'price': '$14.99', 'released': 'Feb 26, 2016', 'reviews': 'Overwhelmingly Positive', 'developer': 'ConcernedApe', 'criticScore': '89', 'genre': 'Farming Sim'}\n",
      "{'game': 'Age of Empires II: Definitive Edition', 'price': '$19.99', 'released': 'Nov 14, 2019', 'reviews': 'Very Positive', 'developer': 'Forgotten Empires', 'criticScore': 'none', 'genre': 'Strategy'}\n",
      "{'game': 'Metro Exodus', 'price': '$39.99', 'released': 'Feb 14, 2019', 'reviews': 'Very Positive', 'developer': '4A Games', 'criticScore': '82', 'genre': 'Post-apocalyptic'}\n",
      "{'game': 'not found', 'price': '$64.96', 'released': 'not found', 'reviews': 'none', 'developer': 'Not Found', 'criticScore': 'none', 'genre': 'Post-apocalyptic'}\n"
     ]
    }
   ],
   "source": [
    "# Top Selling Games\n",
    "baseURL = 'https://store.steampowered.com/search/?filter=globaltopsellers&os=win'\n",
    "browser.visit(baseURL)\n",
    "scrape()"
   ]
  },
  {
   "cell_type": "code",
   "execution_count": 34,
   "metadata": {},
   "outputs": [],
   "source": [
    "browser.visit('https://store.steampowered.com/agecheck/app/1214420/#')"
   ]
  },
  {
   "cell_type": "code",
   "execution_count": 35,
   "metadata": {},
   "outputs": [
    {
     "data": {
      "text/plain": [
       "'View Page'"
      ]
     },
     "execution_count": 35,
     "metadata": {},
     "output_type": "execute_result"
    }
   ],
   "source": []
  },
  {
   "cell_type": "code",
   "execution_count": null,
   "metadata": {},
   "outputs": [],
   "source": []
  },
  {
   "cell_type": "code",
   "execution_count": null,
   "metadata": {},
   "outputs": [],
   "source": []
  }
 ],
 "metadata": {
  "kernelspec": {
   "display_name": "Python 3",
   "language": "python",
   "name": "python3"
  },
  "language_info": {
   "codemirror_mode": {
    "name": "ipython",
    "version": 3
   },
   "file_extension": ".py",
   "mimetype": "text/x-python",
   "name": "python",
   "nbconvert_exporter": "python",
   "pygments_lexer": "ipython3",
   "version": "3.7.4"
  }
 },
 "nbformat": 4,
 "nbformat_minor": 2
}
